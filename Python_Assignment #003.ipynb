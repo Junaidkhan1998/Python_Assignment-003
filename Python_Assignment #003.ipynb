{
 "cells": [
  {
   "cell_type": "code",
   "execution_count": 3,
   "metadata": {},
   "outputs": [
    {
     "name": "stdout",
     "output_type": "stream",
     "text": [
      "Enter first value3\n",
      "Enter second value2\n",
      "Enter a operator:**\n",
      "9 answer\n"
     ]
    }
   ],
   "source": [
    "val1 = int(input('Enter first value'))\n",
    "val2 = int(input('Enter second value'))\n",
    "operator = input('Enter a operator:')\n",
    "\n",
    "if operator == '+' :\n",
    "    val = val1 + val2\n",
    "    print(val,'answer')\n",
    "elif operator == '-' :\n",
    "    val = val1 - val2\n",
    "    print(val,'answer')\n",
    "elif operator == '*' :\n",
    "    val = val1 * val2\n",
    "    print(val,'answer')\n",
    "elif operator == '/' :\n",
    "    val = val1 / val2\n",
    "    print(val,'answer')\n",
    "elif operator == '**' :\n",
    "    val = val1 ** val2\n",
    "    print(val,'answer')\n",
    "    \n",
    "else :\n",
    "    print('Enter correct operator')\n",
    "    \n",
    "\n",
    "\n",
    "    \n",
    "    "
   ]
  },
  {
   "cell_type": "code",
   "execution_count": 43,
   "metadata": {},
   "outputs": [
    {
     "data": {
      "text/plain": [
       "[3, 76342.096, 54, 4.3e-06, 54398251.984625]"
      ]
     },
     "execution_count": 43,
     "metadata": {},
     "output_type": "execute_result"
    }
   ],
   "source": [
    "list1 = [\"Waqar\",3,76342.096,54,\"Yousuf\",\"trejh\",0.0000043,54398251.984625,\"karachi\"]\n",
    "\n",
    "import numbers\n",
    "\n",
    "[x  for x in list1 if isinstance(x,numbers.Number)]\n"
   ]
  },
  {
   "cell_type": "code",
   "execution_count": 6,
   "metadata": {},
   "outputs": [
    {
     "name": "stdout",
     "output_type": "stream",
     "text": [
      "{'Name': 'M.Junaid Khan', 'Father Name': 'M.Javed Khan', 'address': 'XYZ,karachi', 'salary': '50,000'}\n"
     ]
    }
   ],
   "source": [
    ">>> Employee = {\n",
    "      \"Name\" : \"M.Junaid Khan\" ,\n",
    "      \"Father Name\" : \"M.Javed Khan\",\n",
    "      \"address\" : \"XYZ,karachi\"\n",
    "}\n",
    ">>> Employee[\"salary\"] = \"50,000\"\n",
    ">>> print(Employee)"
   ]
  },
  {
   "cell_type": "code",
   "execution_count": 22,
   "metadata": {},
   "outputs": [
    {
     "name": "stdout",
     "output_type": "stream",
     "text": [
      "89\n"
     ]
    }
   ],
   "source": [
    "a  = {\n",
    "    \"0\" : 31 ,\n",
    "    \"1\" : 54 ,\n",
    "    \"2\" : 4\n",
    "}\n",
    "\n",
    "print(sum(a.values()))\n"
   ]
  },
  {
   "cell_type": "code",
   "execution_count": 38,
   "metadata": {},
   "outputs": [
    {
     "name": "stdout",
     "output_type": "stream",
     "text": [
      "[20, 30, -20, 60]\n"
     ]
    }
   ],
   "source": [
    "list1 = [10, 20, 30, 20, 20, 30, 40, 50, -20, 60, 60, -20, -20] \n",
    "\n",
    "print(Repeat(list1)) \n",
    "\n"
   ]
  },
  {
   "cell_type": "code",
   "execution_count": 22,
   "metadata": {},
   "outputs": [
    {
     "name": "stdout",
     "output_type": "stream",
     "text": [
      "Key is not present in a dictionary\n",
      "Key is present in a dictionary\n"
     ]
    }
   ],
   "source": [
    ">>> a = {1:5 , 2:7 , 3:12 , 4:22 , 5:31 , 6:47 , 7:55 , 8:76}\n",
    "\n",
    ">>> def Key_present(x):\n",
    ">>>     if x in a :\n",
    ">>>        print(\"Key is present in a dictionary\")\n",
    "    \n",
    ">>>     else :\n",
    ">>>        print(\"Key is not present in a dictionary\")\n",
    "    \n",
    ">>> Key_present(10)\n",
    ">>> Key_present(7)\n",
    "\n",
    "    \n"
   ]
  }
 ],
 "metadata": {
  "kernelspec": {
   "display_name": "Python 3",
   "language": "python",
   "name": "python3"
  },
  "language_info": {
   "codemirror_mode": {
    "name": "ipython",
    "version": 3
   },
   "file_extension": ".py",
   "mimetype": "text/x-python",
   "name": "python",
   "nbconvert_exporter": "python",
   "pygments_lexer": "ipython3",
   "version": "3.7.4"
  }
 },
 "nbformat": 4,
 "nbformat_minor": 2
}
